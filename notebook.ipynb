{
 "cells": [
  {
   "cell_type": "markdown",
   "metadata": {},
   "source": [
    "# Notebook for re-annotation of Ash1"
   ]
  },
  {
   "cell_type": "markdown",
   "metadata": {},
   "source": [
    "### One time preprocess\n",
    "After these steps are complete, the processed files are:\n",
    "- `GRCh38_canonical_primary.fna`\n",
    "- `GRCh38_primary_scaffolds.txt`\n",
    "- `CHM13_canonical.fna`\n",
    "- `Ash1_canonical_VDJ-masked.fna`\n",
    "- `hybrid.fna`"
   ]
  },
  {
   "cell_type": "code",
   "execution_count": null,
   "metadata": {
    "vscode": {
     "languageId": "shellscript"
    }
   },
   "outputs": [],
   "source": [
    "%%bash\n",
    "fastatools makecanonical -fi GRCh38.fna -mapfile GRCh38_mapfile.csv\n",
    "fastatools makecanonical -fi CHM13.fna  -mapfile CHM13_mapfile.csv\n",
    "fastatools makecanonical -fi Ash1.fna   -mapfile Ash1_mapfile.csv\n",
    "fastatools keepprimary   -fi GRCh38_canonical.fna -listfo GRCh38_primary_scaffolds.txt\n",
    "fastatools replacechrY   -f1 GRCh38_canonical_primary.fna -f2 CHM13_canonical.fna -fo hybrid.fna\n",
    "bedtools   maskfasta     -fi Ash1_canonical.fna -bed VDJ_coords.bed -fo Ash1_canonical_VDJ-masked.fna"
   ]
  },
  {
   "cell_type": "markdown",
   "metadata": {},
   "source": [
    "### Preprocess files (call from Refseq/CHESS directory)\n",
    "After these steps are complete, the processed files are:\n",
    "- `GRCh38_canonical_primary_VDJ-rDNA-chrY-discarded.gff`\n",
    "- `CHM13_canonical_chrY-only.gff`\n",
    "- `CHM13_canonical_rDNA-only_with-roots.gff`\n",
    "- `hybrid.gff`"
   ]
  },
  {
   "cell_type": "code",
   "execution_count": null,
   "metadata": {
    "vscode": {
     "languageId": "shellscript"
    }
   },
   "outputs": [],
   "source": [
    "%%bash\n",
    "fastatools makecanonical -fi GRCh38.gff -mapfile ../fasta/GRCh38_mapfile.csv\n",
    "fastatools makecanonical -fi CHM13.gff -mapfile ../fasta/CHM13_mapfile.csv\n",
    "fastatools keepprimary   -fi GRCh38_canonical.gff -list ../fasta/GRCh38_primary_scaffolds.txt\n",
    "fastatools gffdiscard -fi GRCh38_canonical_primary.gff -VDJ -rDNA -chrY\n",
    "fastatools gffextract -fi CHM13_canonical.gff -chrY\n",
    "fastatools gffextract -fi CHM13_canonical.gff -rDNA\n",
    "fastatools rDNAaddparent -fi CHM13_canonical_rDNA-only.gff -fo CHM13_canonical_rDNA-only_with-roots.gff\n",
    "cat GRCh38_canonical_primary_VDJ-rDNA-chrY-discarded.gff CHM13_canonical_chrY-only.gff > hybrid.gff"
   ]
  },
  {
   "cell_type": "markdown",
   "metadata": {},
   "source": [
    "### Run first pass of liftoff"
   ]
  },
  {
   "cell_type": "code",
   "execution_count": null,
   "metadata": {
    "vscode": {
     "languageId": "shellscript"
    }
   },
   "outputs": [],
   "source": [
    "%%bash\n",
    "source ~/.bashrc\n",
    "time liftoff \\\n",
    "  -p 40 -polish -exclude_partial -copies -sc 0.95 \\\n",
    "  -g Refseq/CHM13_canonical_rDNA-only_with-roots.gff -f Refseq/rRNA_types.txt -chroms Refseq/rRNA_chroms.csv \\\n",
    "  -dir /home/rhuang38/Ash1/run_liftoff/Refseq_1st_pass_intermediates \\\n",
    "  -o   /home/rhuang38/Ash1/run_liftoff/Refseq_1st_pass_intermediates/rRNA_only.gff \\\n",
    "  -u   /home/rhuang38/Ash1/run_liftoff/Refseq_1st_pass_intermediates/unmapped_rRNAs.txt \\\n",
    "  fasta/Ash1_canonical_VDJ-masked.fna fasta/CHM13_canonical.fna\n",
    "\n",
    "bedtools maskfasta \\\n",
    "  -fi fasta/Ash1_canonical_VDJ-masked.fna \\\n",
    "  -bed ../run_liftoff/Refseq_1st_pass_intermediates/rRNA_only.gff_polished \\\n",
    "  -fo fasta/Ash1_canonical_VDJ-rDNA-masked.fna"
   ]
  },
  {
   "cell_type": "markdown",
   "metadata": {},
   "source": [
    "### Run second pass of liftoff"
   ]
  },
  {
   "cell_type": "code",
   "execution_count": null,
   "metadata": {
    "vscode": {
     "languageId": "shellscript"
    }
   },
   "outputs": [],
   "source": [
    "%%bash\n",
    "time liftoff \\\n",
    "  -p 40 -polish -exclude_partial -copies -sc 0.95 \\\n",
    "  -g Refseq/hybrid.gff -f Refseq/types.txt -chroms Refseq/canonical_chroms.txt \\\n",
    "  -dir /home/rhuang38/Ash1/run_liftoff/Refseq_2nd_pass_intermediates \\\n",
    "  -o /home/rhuang38/Ash1/run_liftoff/Refseq_2nd_pass_intermediates/second_pass.gff \\\n",
    "  -u /home/rhuang38/Ash1/run_liftoff/Refseq_2nd_pass_intermediates/unmapped_features.txt \\\n",
    "  fasta/Ash1_canonical_VDJ-rDNA-masked.fna fasta/hybrid.fna\n",
    "\n",
    "time liftoff \\\n",
    "  -p 40 -polish -exclude_partial -copies -sc 0.95 \\\n",
    "  -g Refseq/hybrid.gff -f Refseq/types.txt -chroms Refseq/canonical_chroms.txt \\\n",
    "  -dir /home/rhuang38/Ash1/run_liftoff/Refseq_2nd_pass_prot-prior_intermediates \\\n",
    "  -o /home/rhuang38/Ash1/run_liftoff/Refseq_2nd_pass_prot-prior_intermediates/second_pass.gff \\\n",
    "  -u /home/rhuang38/Ash1/run_liftoff/Refseq_2nd_pass_prot-prior_intermediates/unmapped_features.txt \\\n",
    "  fasta/Ash1_canonical_VDJ-rDNA-masked.fna fasta/hybrid.fna -prot_prior"
   ]
  },
  {
   "cell_type": "markdown",
   "metadata": {},
   "source": [
    "### Merge results from two passes"
   ]
  },
  {
   "cell_type": "code",
   "execution_count": null,
   "metadata": {
    "vscode": {
     "languageId": "shellscript"
    }
   },
   "outputs": [],
   "source": [
    "%%bash\n",
    "gffread -F --keep-genes --sort-alpha rRNA_only.gff_polished > rRNA_only.sorted.gff\n",
    "cat rRNA_only.sorted.gff second_pass.gff_polished > Ash1.gff\n",
    "gffread -F --keep-genes --sort-by fasta/reflst.txt Ash1.gff > result/Ash1_refseq.gff"
   ]
  }
 ],
 "metadata": {
  "language_info": {
   "name": "python"
  }
 },
 "nbformat": 4,
 "nbformat_minor": 2
}
